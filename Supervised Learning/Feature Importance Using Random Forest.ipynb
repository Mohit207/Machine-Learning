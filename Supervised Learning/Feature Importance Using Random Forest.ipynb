{
 "cells": [
  {
   "cell_type": "markdown",
   "id": "e89e70c4",
   "metadata": {},
   "source": [
    "# Feature Importance Using Random Forest"
   ]
  },
  {
   "cell_type": "code",
   "execution_count": 1,
   "id": "0330b640",
   "metadata": {},
   "outputs": [],
   "source": [
    "import numpy as np\n",
    "import pandas as pd\n",
    "import seaborn as sns\n",
    "import matplotlib.pyplot as plt\n",
    "%matplotlib inline\n"
   ]
  },
  {
   "cell_type": "code",
   "execution_count": 2,
   "id": "8447cf62",
   "metadata": {},
   "outputs": [],
   "source": [
    "df = pd.read_csv(\"C:\\\\Users\\\\pc\\\\Desktop\\\\Data Science\\\\MachineLearning\\\\Latest Covid-19 India Status.csv\")"
   ]
  },
  {
   "cell_type": "code",
   "execution_count": 3,
   "id": "f27a24f0",
   "metadata": {},
   "outputs": [
    {
     "data": {
      "text/html": [
       "<div>\n",
       "<style scoped>\n",
       "    .dataframe tbody tr th:only-of-type {\n",
       "        vertical-align: middle;\n",
       "    }\n",
       "\n",
       "    .dataframe tbody tr th {\n",
       "        vertical-align: top;\n",
       "    }\n",
       "\n",
       "    .dataframe thead th {\n",
       "        text-align: right;\n",
       "    }\n",
       "</style>\n",
       "<table border=\"1\" class=\"dataframe\">\n",
       "  <thead>\n",
       "    <tr style=\"text-align: right;\">\n",
       "      <th></th>\n",
       "      <th>States</th>\n",
       "      <th>Total Cases Ranking</th>\n",
       "      <th>Sum of Total Cases</th>\n",
       "      <th>Sum of Discharged</th>\n",
       "      <th>Sum of Discharge Ratio (%)</th>\n",
       "      <th>Sum of Deaths</th>\n",
       "      <th>Sum of Death Ratio (%)</th>\n",
       "      <th>Sum of Active Ratio (%)</th>\n",
       "      <th>Sum of Active</th>\n",
       "    </tr>\n",
       "  </thead>\n",
       "  <tbody>\n",
       "    <tr>\n",
       "      <th>0</th>\n",
       "      <td>Maharashtra</td>\n",
       "      <td>1</td>\n",
       "      <td>6524498</td>\n",
       "      <td>6340723</td>\n",
       "      <td>97.18</td>\n",
       "      <td>138546</td>\n",
       "      <td>0.0465</td>\n",
       "      <td>0.0172</td>\n",
       "      <td>45229</td>\n",
       "    </tr>\n",
       "    <tr>\n",
       "      <th>1</th>\n",
       "      <td>Kerala</td>\n",
       "      <td>2</td>\n",
       "      <td>4524158</td>\n",
       "      <td>4332897</td>\n",
       "      <td>95.77</td>\n",
       "      <td>23683</td>\n",
       "      <td>0.0114</td>\n",
       "      <td>0.0925</td>\n",
       "      <td>167578</td>\n",
       "    </tr>\n",
       "    <tr>\n",
       "      <th>2</th>\n",
       "      <td>Karnataka</td>\n",
       "      <td>3</td>\n",
       "      <td>2968543</td>\n",
       "      <td>2916530</td>\n",
       "      <td>98.25</td>\n",
       "      <td>37627</td>\n",
       "      <td>0.0278</td>\n",
       "      <td>0.0120</td>\n",
       "      <td>14386</td>\n",
       "    </tr>\n",
       "    <tr>\n",
       "      <th>3</th>\n",
       "      <td>Tamil Nadu</td>\n",
       "      <td>4</td>\n",
       "      <td>2647041</td>\n",
       "      <td>2594697</td>\n",
       "      <td>98.02</td>\n",
       "      <td>35360</td>\n",
       "      <td>0.0294</td>\n",
       "      <td>0.0160</td>\n",
       "      <td>16984</td>\n",
       "    </tr>\n",
       "    <tr>\n",
       "      <th>4</th>\n",
       "      <td>Andhra Pradesh</td>\n",
       "      <td>5</td>\n",
       "      <td>2039529</td>\n",
       "      <td>2011063</td>\n",
       "      <td>98.60</td>\n",
       "      <td>14078</td>\n",
       "      <td>0.0151</td>\n",
       "      <td>0.0177</td>\n",
       "      <td>14388</td>\n",
       "    </tr>\n",
       "  </tbody>\n",
       "</table>\n",
       "</div>"
      ],
      "text/plain": [
       "           States  Total Cases Ranking  Sum of Total Cases  Sum of Discharged  \\\n",
       "0     Maharashtra                    1             6524498            6340723   \n",
       "1          Kerala                    2             4524158            4332897   \n",
       "2       Karnataka                    3             2968543            2916530   \n",
       "3      Tamil Nadu                    4             2647041            2594697   \n",
       "4  Andhra Pradesh                    5             2039529            2011063   \n",
       "\n",
       "   Sum of Discharge Ratio (%)  Sum of Deaths  Sum of Death Ratio (%)  \\\n",
       "0                       97.18         138546                  0.0465   \n",
       "1                       95.77          23683                  0.0114   \n",
       "2                       98.25          37627                  0.0278   \n",
       "3                       98.02          35360                  0.0294   \n",
       "4                       98.60          14078                  0.0151   \n",
       "\n",
       "   Sum of Active Ratio (%)  Sum of Active  \n",
       "0                   0.0172          45229  \n",
       "1                   0.0925         167578  \n",
       "2                   0.0120          14386  \n",
       "3                   0.0160          16984  \n",
       "4                   0.0177          14388  "
      ]
     },
     "execution_count": 3,
     "metadata": {},
     "output_type": "execute_result"
    }
   ],
   "source": [
    "df.head()"
   ]
  },
  {
   "cell_type": "code",
   "execution_count": 4,
   "id": "27f7ca7c",
   "metadata": {},
   "outputs": [
    {
     "data": {
      "text/plain": [
       "States                        0\n",
       "Total Cases Ranking           0\n",
       "Sum of Total Cases            0\n",
       "Sum of Discharged             0\n",
       "Sum of Discharge Ratio (%)    0\n",
       "Sum of Deaths                 0\n",
       "Sum of Death Ratio (%)        0\n",
       "Sum of Active Ratio (%)       0\n",
       "Sum of Active                 0\n",
       "dtype: int64"
      ]
     },
     "execution_count": 4,
     "metadata": {},
     "output_type": "execute_result"
    }
   ],
   "source": [
    "df.isnull().sum()"
   ]
  },
  {
   "cell_type": "code",
   "execution_count": 5,
   "id": "921a512c",
   "metadata": {},
   "outputs": [
    {
     "name": "stdout",
     "output_type": "stream",
     "text": [
      "<class 'pandas.core.frame.DataFrame'>\n",
      "RangeIndex: 36 entries, 0 to 35\n",
      "Data columns (total 9 columns):\n",
      " #   Column                      Non-Null Count  Dtype  \n",
      "---  ------                      --------------  -----  \n",
      " 0   States                      36 non-null     object \n",
      " 1   Total Cases Ranking         36 non-null     int64  \n",
      " 2   Sum of Total Cases          36 non-null     int64  \n",
      " 3   Sum of Discharged           36 non-null     int64  \n",
      " 4   Sum of Discharge Ratio (%)  36 non-null     float64\n",
      " 5   Sum of Deaths               36 non-null     int64  \n",
      " 6   Sum of Death Ratio (%)      36 non-null     float64\n",
      " 7   Sum of Active Ratio (%)     36 non-null     float64\n",
      " 8   Sum of Active               36 non-null     int64  \n",
      "dtypes: float64(3), int64(5), object(1)\n",
      "memory usage: 2.7+ KB\n"
     ]
    }
   ],
   "source": [
    "df.info()"
   ]
  },
  {
   "cell_type": "code",
   "execution_count": 6,
   "id": "0389409f",
   "metadata": {
    "scrolled": true
   },
   "outputs": [],
   "source": [
    "feature_cols = ['Total Cases Ranking','Sum of Discharged','Sum of Discharge Ratio (%)', 'Sum of Deaths','Sum of Death Ratio (%)','Sum of Active Ratio (%)', 'Sum of Active']\n",
    "X = df[feature_cols]\n",
    "y = df['Sum of Total Cases']\n",
    "\n",
    "from sklearn.model_selection import train_test_split\n",
    "X_train, X_test, y_train , y_test = train_test_split(X, y, random_state=0)"
   ]
  },
  {
   "cell_type": "code",
   "execution_count": 7,
   "id": "783dd12d",
   "metadata": {
    "scrolled": true
   },
   "outputs": [],
   "source": [
    "from sklearn.preprocessing import StandardScaler\n",
    "sc = StandardScaler()\n",
    "X_train = sc.fit_transform(X_train)\n",
    "X_test = sc.transform(X_test)"
   ]
  },
  {
   "cell_type": "code",
   "execution_count": 8,
   "id": "f4ec94fb",
   "metadata": {},
   "outputs": [
    {
     "data": {
      "text/plain": [
       "Text(0.5, 1.0, 'Correlation matrix')"
      ]
     },
     "execution_count": 8,
     "metadata": {},
     "output_type": "execute_result"
    },
    {
     "data": {
      "image/png": "[encoded data removed]",
      "text/plain": [
       "<Figure size 432x288 with 2 Axes>"
      ]
     },
     "metadata": {
      "needs_background": "light"
     },
     "output_type": "display_data"
    }
   ],
   "source": [
    "sns.heatmap(X.assign(target = y).corr().round(2), \n",
    "            cmap = 'Blues', annot = True).set_title('Correlation matrix', fontsize = 16)"
   ]
  },
  {
   "cell_type": "code",
   "execution_count": 9,
   "id": "217533fc",
   "metadata": {
    "scrolled": true
   },
   "outputs": [
    {
     "data": {
      "text/plain": [
       "RandomForestRegressor(n_estimators=300, n_jobs=-1, random_state=232)"
      ]
     },
     "execution_count": 9,
     "metadata": {},
     "output_type": "execute_result"
    }
   ],
   "source": [
    "from sklearn.ensemble import RandomForestRegressor\n",
    "rf = RandomForestRegressor(n_estimators=300,\n",
    "                          n_jobs=-1,\n",
    "                          bootstrap= True,\n",
    "                          random_state=232)\n",
    "rf.fit(X_train, y_train)"
   ]
  },
  {
   "cell_type": "code",
   "execution_count": 10,
   "id": "c427df3e",
   "metadata": {},
   "outputs": [
    {
     "name": "stdout",
     "output_type": "stream",
     "text": [
      "R^2 Training Score: 0.97\n",
      "R^2 Test Score: 0.96\n"
     ]
    }
   ],
   "source": [
    "print('R^2 Training Score: {:.2f}'.format(rf.score(X_train, y_train)))\n",
    "print('R^2 Test Score: {:.2f}'.format(rf.score(X_test, y_test)))"
   ]
  },
  {
   "cell_type": "code",
   "execution_count": 11,
   "id": "809ab86e",
   "metadata": {},
   "outputs": [
    {
     "data": {
      "text/plain": [
       "array([0.30021419, 0.30838542, 0.02296267, 0.1134415 , 0.02245027,\n",
       "       0.02191517, 0.21063077])"
      ]
     },
     "execution_count": 11,
     "metadata": {},
     "output_type": "execute_result"
    }
   ],
   "source": [
    "rf.feature_importances_"
   ]
  },
  {
   "cell_type": "code",
   "execution_count": 12,
   "id": "413856cb",
   "metadata": {
    "scrolled": true
   },
   "outputs": [],
   "source": [
    "feature_imp = pd.DataFrame({'Feature':feature_cols, 'feature_importance':rf.feature_importances_}).sort_values('feature_importance', ascending=False).reset_index(drop=True)"
   ]
  },
  {
   "cell_type": "code",
   "execution_count": 13,
   "id": "4252f88e",
   "metadata": {},
   "outputs": [
    {
     "data": {
      "text/html": [
       "<div>\n",
       "<style scoped>\n",
       "    .dataframe tbody tr th:only-of-type {\n",
       "        vertical-align: middle;\n",
       "    }\n",
       "\n",
       "    .dataframe tbody tr th {\n",
       "        vertical-align: top;\n",
       "    }\n",
       "\n",
       "    .dataframe thead th {\n",
       "        text-align: right;\n",
       "    }\n",
       "</style>\n",
       "<table border=\"1\" class=\"dataframe\">\n",
       "  <thead>\n",
       "    <tr style=\"text-align: right;\">\n",
       "      <th></th>\n",
       "      <th>Feature</th>\n",
       "      <th>feature_importance</th>\n",
       "    </tr>\n",
       "  </thead>\n",
       "  <tbody>\n",
       "    <tr>\n",
       "      <th>0</th>\n",
       "      <td>Sum of Discharged</td>\n",
       "      <td>0.308385</td>\n",
       "    </tr>\n",
       "    <tr>\n",
       "      <th>1</th>\n",
       "      <td>Total Cases Ranking</td>\n",
       "      <td>0.300214</td>\n",
       "    </tr>\n",
       "    <tr>\n",
       "      <th>2</th>\n",
       "      <td>Sum of Active</td>\n",
       "      <td>0.210631</td>\n",
       "    </tr>\n",
       "    <tr>\n",
       "      <th>3</th>\n",
       "      <td>Sum of Deaths</td>\n",
       "      <td>0.113441</td>\n",
       "    </tr>\n",
       "    <tr>\n",
       "      <th>4</th>\n",
       "      <td>Sum of Discharge Ratio (%)</td>\n",
       "      <td>0.022963</td>\n",
       "    </tr>\n",
       "    <tr>\n",
       "      <th>5</th>\n",
       "      <td>Sum of Death Ratio (%)</td>\n",
       "      <td>0.022450</td>\n",
       "    </tr>\n",
       "    <tr>\n",
       "      <th>6</th>\n",
       "      <td>Sum of Active Ratio (%)</td>\n",
       "      <td>0.021915</td>\n",
       "    </tr>\n",
       "  </tbody>\n",
       "</table>\n",
       "</div>"
      ],
      "text/plain": [
       "                      Feature  feature_importance\n",
       "0           Sum of Discharged            0.308385\n",
       "1         Total Cases Ranking            0.300214\n",
       "2               Sum of Active            0.210631\n",
       "3               Sum of Deaths            0.113441\n",
       "4  Sum of Discharge Ratio (%)            0.022963\n",
       "5      Sum of Death Ratio (%)            0.022450\n",
       "6     Sum of Active Ratio (%)            0.021915"
      ]
     },
     "execution_count": 13,
     "metadata": {},
     "output_type": "execute_result"
    }
   ],
   "source": [
    "feature_imp"
   ]
  },
  {
   "cell_type": "code",
   "execution_count": 14,
   "id": "50cda1ae",
   "metadata": {},
   "outputs": [
    {
     "data": {
      "text/plain": [
       "0             Sum of Discharged\n",
       "1           Total Cases Ranking\n",
       "2                 Sum of Active\n",
       "3                 Sum of Deaths\n",
       "4    Sum of Discharge Ratio (%)\n",
       "5        Sum of Death Ratio (%)\n",
       "6       Sum of Active Ratio (%)\n",
       "Name: Feature, dtype: object"
      ]
     },
     "execution_count": 14,
     "metadata": {},
     "output_type": "execute_result"
    }
   ],
   "source": [
    "feature_imp.Feature"
   ]
  },
  {
   "cell_type": "code",
   "execution_count": 15,
   "id": "01638d18",
   "metadata": {
    "scrolled": true
   },
   "outputs": [
    {
     "data": {
      "text/plain": [
       "Text(0.5, 1.0, 'Default feature importance (scikit-learn)')"
      ]
     },
     "execution_count": 15,
     "metadata": {},
     "output_type": "execute_result"
    },
    {
     "data": {
      "image/png": "[encoded data removed]",
      "text/plain": [
       "<Figure size 432x288 with 1 Axes>"
      ]
     },
     "metadata": {
      "needs_background": "light"
     },
     "output_type": "display_data"
    }
   ],
   "source": [
    "sns.barplot(x = 'feature_importance', y = 'Feature', data = feature_imp, orient = 'h', color = 'royalblue') \\\n",
    "       .set_title('Default feature importance (scikit-learn)', fontsize = 20)"
   ]
  },
  {
   "cell_type": "code",
   "execution_count": null,
   "id": "629cc83b",
   "metadata": {},
   "outputs": [],
   "source": []
  },
  {
   "cell_type": "code",
   "execution_count": null,
   "id": "048fefc4",
   "metadata": {},
   "outputs": [],
   "source": []
  }
 ],
 "metadata": {
  "kernelspec": {
   "display_name": "Python 3",
   "language": "python",
   "name": "python3"
  },
  "language_info": {
   "codemirror_mode": {
    "name": "ipython",
    "version": 3
   },
   "file_extension": ".py",
   "mimetype": "text/x-python",
   "name": "python",
   "nbconvert_exporter": "python",
   "pygments_lexer": "ipython3",
   "version": "3.8.8"
  }
 },
 "nbformat": 4,
 "nbformat_minor": 5
}

{
 "cells": [
  {
   "cell_type": "markdown",
   "id": "dc8002a7",
   "metadata": {},
   "source": [
    "Polynomial Regression"
   ]
  },
  {
   "cell_type": "markdown",
   "id": "562f36a9",
   "metadata": {},
   "source": [
    "Linear regression requires the relation between the dependent variable the independent variable to be linear. Often the relatinship between the dependent varibale Y and one or more of the independent X varible is not a strait line relationship but, rather, has some curvature to it."
   ]
  },
  {
   "cell_type": "markdown",
   "id": "d08ddc21",
   "metadata": {},
   "source": [
    "# Polynomial Regression\n",
    "\n",
    "Polynomial Regression is a special case of Multiple Linear Regression Where fit a plynomial equation on the data with curvilinear relationship between the target variable and the independent variables."
   ]
  },
  {
   "cell_type": "code",
   "execution_count": 1,
   "id": "6a4b77cc",
   "metadata": {},
   "outputs": [],
   "source": [
    "import pandas  as pd\n",
    "import numpy as np\n",
    "import matplotlib.pyplot as plt\n",
    "import seaborn as sns\n",
    "\n",
    "# Importing Data Set\n",
    "df =  pd.read_csv(\"C:\\\\Users\\\\pc\\\\Desktop\\\\Data Science\\\\MachineLearning\\\\Starts\\\\WeatherData.csv\")"
   ]
  },
  {
   "cell_type": "code",
   "execution_count": 2,
   "id": "70025f44",
   "metadata": {},
   "outputs": [
    {
     "data": {
      "text/html": [
       "<div>\n",
       "<style scoped>\n",
       "    .dataframe tbody tr th:only-of-type {\n",
       "        vertical-align: middle;\n",
       "    }\n",
       "\n",
       "    .dataframe tbody tr th {\n",
       "        vertical-align: top;\n",
       "    }\n",
       "\n",
       "    .dataframe thead th {\n",
       "        text-align: right;\n",
       "    }\n",
       "</style>\n",
       "<table border=\"1\" class=\"dataframe\">\n",
       "  <thead>\n",
       "    <tr style=\"text-align: right;\">\n",
       "      <th></th>\n",
       "      <th>Pressure (millibars)</th>\n",
       "      <th>Humidity</th>\n",
       "    </tr>\n",
       "  </thead>\n",
       "  <tbody>\n",
       "    <tr>\n",
       "      <th>0</th>\n",
       "      <td>1014.40</td>\n",
       "      <td>0.62</td>\n",
       "    </tr>\n",
       "    <tr>\n",
       "      <th>1</th>\n",
       "      <td>1014.20</td>\n",
       "      <td>0.66</td>\n",
       "    </tr>\n",
       "    <tr>\n",
       "      <th>2</th>\n",
       "      <td>1014.47</td>\n",
       "      <td>0.79</td>\n",
       "    </tr>\n",
       "    <tr>\n",
       "      <th>3</th>\n",
       "      <td>1014.45</td>\n",
       "      <td>0.82</td>\n",
       "    </tr>\n",
       "    <tr>\n",
       "      <th>4</th>\n",
       "      <td>1014.49</td>\n",
       "      <td>0.83</td>\n",
       "    </tr>\n",
       "    <tr>\n",
       "      <th>5</th>\n",
       "      <td>1014.52</td>\n",
       "      <td>0.85</td>\n",
       "    </tr>\n",
       "  </tbody>\n",
       "</table>\n",
       "</div>"
      ],
      "text/plain": [
       "   Pressure (millibars)  Humidity\n",
       "0               1014.40      0.62\n",
       "1               1014.20      0.66\n",
       "2               1014.47      0.79\n",
       "3               1014.45      0.82\n",
       "4               1014.49      0.83\n",
       "5               1014.52      0.85"
      ]
     },
     "execution_count": 2,
     "metadata": {},
     "output_type": "execute_result"
    }
   ],
   "source": [
    "df.head(6)"
   ]
  },
  {
   "cell_type": "code",
   "execution_count": 3,
   "id": "f4d420e4",
   "metadata": {},
   "outputs": [
    {
     "name": "stdout",
     "output_type": "stream",
     "text": [
      "<class 'pandas.core.frame.DataFrame'>\n",
      "RangeIndex: 25 entries, 0 to 24\n",
      "Data columns (total 2 columns):\n",
      " #   Column                Non-Null Count  Dtype  \n",
      "---  ------                --------------  -----  \n",
      " 0   Pressure (millibars)  25 non-null     float64\n",
      " 1   Humidity              25 non-null     float64\n",
      "dtypes: float64(2)\n",
      "memory usage: 528.0 bytes\n"
     ]
    }
   ],
   "source": [
    "# Check Data \n",
    "\n",
    "df.info()"
   ]
  },
  {
   "cell_type": "code",
   "execution_count": 4,
   "id": "0e67f379",
   "metadata": {},
   "outputs": [
    {
     "data": {
      "text/plain": [
       "Text(0, 0.5, 'Humidity')"
      ]
     },
     "execution_count": 4,
     "metadata": {},
     "output_type": "execute_result"
    },
    {
     "data": {
      "image/png": "[encoded data removed]",
      "text/plain": [
       "<Figure size 432x288 with 1 Axes>"
      ]
     },
     "metadata": {
      "needs_background": "light"
     },
     "output_type": "display_data"
    }
   ],
   "source": [
    "#Set our input x to Pressure, use [[]] to convert to 2D array suitable for model input.\n",
    "\n",
    "X = df[['Pressure (millibars)']]\n",
    "y = df['Humidity']\n",
    "\n",
    "# Produce a Scatter graph of Humidity against Pressure\n",
    "plt .scatter(X, y)\n",
    "plt.xlabel(\"Pressure (millibars)\")\n",
    "plt.ylabel(\"Humidity\")"
   ]
  },
  {
   "cell_type": "code",
   "execution_count": 6,
   "id": "555fb999",
   "metadata": {},
   "outputs": [],
   "source": [
    "from sklearn.linear_model import LinearRegression\n",
    "lr = LinearRegression()\n",
    "lr.fit(X,y)\n",
    "y_pred= lr.predict(X)"
   ]
  },
  {
   "cell_type": "code",
   "execution_count": 10,
   "id": "afca8033",
   "metadata": {},
   "outputs": [
    {
     "data": {
      "text/plain": [
       "Text(0, 0.5, 'Humidity')"
      ]
     },
     "execution_count": 10,
     "metadata": {},
     "output_type": "execute_result"
    },
    {
     "data": {
      "image/png": "[encoded data removed]",
      "text/plain": [
       "<Figure size 432x288 with 1 Axes>"
      ]
     },
     "metadata": {
      "needs_background": "light"
     },
     "output_type": "display_data"
    }
   ],
   "source": [
    "#Visualising simple Linear Regression results\n",
    "plt.scatter(X,y, color='red')\n",
    "plt.plot(X, y_pred)\n",
    "plt.xlabel(\"Pressure (millibars)\")\n",
    "plt.ylabel(\"Humidity\")"
   ]
  },
  {
   "cell_type": "markdown",
   "id": "afa583bc",
   "metadata": {},
   "source": [
    "#  Fitting Polynomial Regression\n",
    "\n"
   ]
  },
  {
   "cell_type": "code",
   "execution_count": 15,
   "id": "816e3c43",
   "metadata": {
    "scrolled": true
   },
   "outputs": [
    {
     "name": "stdout",
     "output_type": "stream",
     "text": [
      "[[1.00000000e+00 1.01440000e+03 1.02900736e+06]\n",
      " [1.00000000e+00 1.01420000e+03 1.02860164e+06]\n",
      " [1.00000000e+00 1.01447000e+03 1.02914938e+06]\n",
      " [1.00000000e+00 1.01445000e+03 1.02910880e+06]\n",
      " [1.00000000e+00 1.01449000e+03 1.02918996e+06]\n",
      " [1.00000000e+00 1.01452000e+03 1.02925083e+06]\n",
      " [1.00000000e+00 1.01416000e+03 1.02852051e+06]\n",
      " [1.00000000e+00 1.01424000e+03 1.02868278e+06]\n",
      " [1.00000000e+00 1.01425000e+03 1.02870306e+06]\n",
      " [1.00000000e+00 1.01396000e+03 1.02811488e+06]\n",
      " [1.00000000e+00 1.01385000e+03 1.02789182e+06]\n",
      " [1.00000000e+00 1.01304000e+03 1.02625004e+06]\n",
      " [1.00000000e+00 1.01222000e+03 1.02458933e+06]\n",
      " [1.00000000e+00 1.01144000e+03 1.02301087e+06]\n",
      " [1.00000000e+00 1.01052000e+03 1.02115067e+06]\n",
      " [1.00000000e+00 1.00983000e+03 1.01975663e+06]\n",
      " [1.00000000e+00 1.00926000e+03 1.01860575e+06]\n",
      " [1.00000000e+00 1.00876000e+03 1.01759674e+06]\n",
      " [1.00000000e+00 1.00836000e+03 1.01678989e+06]\n",
      " [1.00000000e+00 1.00811000e+03 1.01628577e+06]\n",
      " [1.00000000e+00 1.00815000e+03 1.01636642e+06]\n",
      " [1.00000000e+00 1.00785000e+03 1.01576162e+06]\n",
      " [1.00000000e+00 1.00789000e+03 1.01584225e+06]\n",
      " [1.00000000e+00 1.00736000e+03 1.01477417e+06]\n",
      " [1.00000000e+00 1.00726000e+03 1.01457271e+06]]\n"
     ]
    }
   ],
   "source": [
    "# Imports\n",
    "\n",
    "from sklearn.preprocessing import PolynomialFeatures\n",
    "from sklearn.linear_model import LinearRegression\n",
    "from sklearn import metrics\n",
    "\n",
    "pre_process = PolynomialFeatures(degree=2)\n",
    "\n",
    "# Transform X input to 1, x and x^2\n",
    "X_poly = pre_process.fit_transform(X)\n",
    "\n",
    "# Show the transformat on the notebook\n",
    "print(X_poly)"
   ]
  },
  {
   "cell_type": "code",
   "execution_count": 16,
   "id": "c8a387b8",
   "metadata": {},
   "outputs": [],
   "source": [
    "pr_model = LinearRegression()\n",
    "#Fit our Preprocessed data to the polynomial Regression model\n",
    "pr_model.fit(X_poly, y)\n",
    "y_pred = pr_model.predict(X_poly)"
   ]
  },
  {
   "cell_type": "code",
   "execution_count": 17,
   "id": "246d5846",
   "metadata": {
    "scrolled": true
   },
   "outputs": [
    {
     "data": {
      "text/plain": [
       "Text(0, 0.5, 'Humidity')"
      ]
     },
     "execution_count": 17,
     "metadata": {},
     "output_type": "execute_result"
    },
    {
     "data": {
      "image/png": "[encoded data removed]",
      "text/plain": [
       "<Figure size 432x288 with 1 Axes>"
      ]
     },
     "metadata": {
      "needs_background": "light"
     },
     "output_type": "display_data"
    }
   ],
   "source": [
    "# Visualaizing our Polynomial Regrresion Model \n",
    "plt.scatter(X,y, c ='red')\n",
    "plt.plot(X,y_pred)\n",
    "plt.xlabel(\"Pressure (millibars)\")\n",
    "plt.ylabel(\"Humidity\")"
   ]
  },
  {
   "cell_type": "markdown",
   "id": "80768bc1",
   "metadata": {},
   "source": [
    "## R-Square Value"
   ]
  },
  {
   "cell_type": "code",
   "execution_count": 18,
   "id": "de8b9a39",
   "metadata": {},
   "outputs": [
    {
     "name": "stdout",
     "output_type": "stream",
     "text": [
      "R-Square value of Prediction 0.8616233381720982\n"
     ]
    }
   ],
   "source": [
    "print(\"R-Square value of Prediction\",metrics.r2_score(y,y_pred))"
   ]
  },
  {
   "cell_type": "code",
   "execution_count": 19,
   "id": "87323fc1",
   "metadata": {
    "scrolled": true
   },
   "outputs": [
    {
     "data": {
      "text/html": [
       "<div>\n",
       "<style scoped>\n",
       "    .dataframe tbody tr th:only-of-type {\n",
       "        vertical-align: middle;\n",
       "    }\n",
       "\n",
       "    .dataframe tbody tr th {\n",
       "        vertical-align: top;\n",
       "    }\n",
       "\n",
       "    .dataframe thead th {\n",
       "        text-align: right;\n",
       "    }\n",
       "</style>\n",
       "<table border=\"1\" class=\"dataframe\">\n",
       "  <thead>\n",
       "    <tr style=\"text-align: right;\">\n",
       "      <th></th>\n",
       "      <th>Actual</th>\n",
       "      <th>Predicted</th>\n",
       "    </tr>\n",
       "  </thead>\n",
       "  <tbody>\n",
       "    <tr>\n",
       "      <th>0</th>\n",
       "      <td>0.62</td>\n",
       "      <td>0.755816</td>\n",
       "    </tr>\n",
       "    <tr>\n",
       "      <th>1</th>\n",
       "      <td>0.66</td>\n",
       "      <td>0.713629</td>\n",
       "    </tr>\n",
       "    <tr>\n",
       "      <th>2</th>\n",
       "      <td>0.79</td>\n",
       "      <td>0.771122</td>\n",
       "    </tr>\n",
       "    <tr>\n",
       "      <th>3</th>\n",
       "      <td>0.82</td>\n",
       "      <td>0.766720</td>\n",
       "    </tr>\n",
       "    <tr>\n",
       "      <th>4</th>\n",
       "      <td>0.83</td>\n",
       "      <td>0.775546</td>\n",
       "    </tr>\n",
       "    <tr>\n",
       "      <th>5</th>\n",
       "      <td>0.85</td>\n",
       "      <td>0.782226</td>\n",
       "    </tr>\n",
       "    <tr>\n",
       "      <th>6</th>\n",
       "      <td>0.83</td>\n",
       "      <td>0.705465</td>\n",
       "    </tr>\n",
       "    <tr>\n",
       "      <th>7</th>\n",
       "      <td>0.78</td>\n",
       "      <td>0.721884</td>\n",
       "    </tr>\n",
       "    <tr>\n",
       "      <th>8</th>\n",
       "      <td>0.72</td>\n",
       "      <td>0.723962</td>\n",
       "    </tr>\n",
       "    <tr>\n",
       "      <th>9</th>\n",
       "      <td>0.61</td>\n",
       "      <td>0.666019</td>\n",
       "    </tr>\n",
       "    <tr>\n",
       "      <th>10</th>\n",
       "      <td>0.52</td>\n",
       "      <td>0.645298</td>\n",
       "    </tr>\n",
       "    <tr>\n",
       "      <th>11</th>\n",
       "      <td>0.46</td>\n",
       "      <td>0.513994</td>\n",
       "    </tr>\n",
       "    <tr>\n",
       "      <th>12</th>\n",
       "      <td>0.40</td>\n",
       "      <td>0.419240</td>\n",
       "    </tr>\n",
       "    <tr>\n",
       "      <th>13</th>\n",
       "      <td>0.40</td>\n",
       "      <td>0.364750</td>\n",
       "    </tr>\n",
       "    <tr>\n",
       "      <th>14</th>\n",
       "      <td>0.37</td>\n",
       "      <td>0.345144</td>\n",
       "    </tr>\n",
       "    <tr>\n",
       "      <th>15</th>\n",
       "      <td>0.40</td>\n",
       "      <td>0.362165</td>\n",
       "    </tr>\n",
       "    <tr>\n",
       "      <th>16</th>\n",
       "      <td>0.36</td>\n",
       "      <td>0.396737</td>\n",
       "    </tr>\n",
       "    <tr>\n",
       "      <th>17</th>\n",
       "      <td>0.43</td>\n",
       "      <td>0.442341</td>\n",
       "    </tr>\n",
       "    <tr>\n",
       "      <th>18</th>\n",
       "      <td>0.50</td>\n",
       "      <td>0.489106</td>\n",
       "    </tr>\n",
       "    <tr>\n",
       "      <th>19</th>\n",
       "      <td>0.53</td>\n",
       "      <td>0.522975</td>\n",
       "    </tr>\n",
       "    <tr>\n",
       "      <th>20</th>\n",
       "      <td>0.55</td>\n",
       "      <td>0.517316</td>\n",
       "    </tr>\n",
       "    <tr>\n",
       "      <th>21</th>\n",
       "      <td>0.58</td>\n",
       "      <td>0.561985</td>\n",
       "    </tr>\n",
       "    <tr>\n",
       "      <th>22</th>\n",
       "      <td>0.59</td>\n",
       "      <td>0.555732</td>\n",
       "    </tr>\n",
       "    <tr>\n",
       "      <th>23</th>\n",
       "      <td>0.60</td>\n",
       "      <td>0.645999</td>\n",
       "    </tr>\n",
       "    <tr>\n",
       "      <th>24</th>\n",
       "      <td>0.63</td>\n",
       "      <td>0.664830</td>\n",
       "    </tr>\n",
       "  </tbody>\n",
       "</table>\n",
       "</div>"
      ],
      "text/plain": [
       "    Actual  Predicted\n",
       "0     0.62   0.755816\n",
       "1     0.66   0.713629\n",
       "2     0.79   0.771122\n",
       "3     0.82   0.766720\n",
       "4     0.83   0.775546\n",
       "5     0.85   0.782226\n",
       "6     0.83   0.705465\n",
       "7     0.78   0.721884\n",
       "8     0.72   0.723962\n",
       "9     0.61   0.666019\n",
       "10    0.52   0.645298\n",
       "11    0.46   0.513994\n",
       "12    0.40   0.419240\n",
       "13    0.40   0.364750\n",
       "14    0.37   0.345144\n",
       "15    0.40   0.362165\n",
       "16    0.36   0.396737\n",
       "17    0.43   0.442341\n",
       "18    0.50   0.489106\n",
       "19    0.53   0.522975\n",
       "20    0.55   0.517316\n",
       "21    0.58   0.561985\n",
       "22    0.59   0.555732\n",
       "23    0.60   0.645999\n",
       "24    0.63   0.664830"
      ]
     },
     "execution_count": 19,
     "metadata": {},
     "output_type": "execute_result"
    }
   ],
   "source": [
    "# Cross check first few actual values and Predicted Values\n",
    "\n",
    "df_check = pd.DataFrame({'Actual': y.values, 'Predicted': y_pred.ravel()})\n",
    "df_check"
   ]
  },
  {
   "cell_type": "code",
   "execution_count": 20,
   "id": "9b7c36f5",
   "metadata": {},
   "outputs": [
    {
     "name": "stderr",
     "output_type": "stream",
     "text": [
      "C:\\Anaconda\\lib\\site-packages\\seaborn\\distributions.py:2557: FutureWarning: `distplot` is a deprecated function and will be removed in a future version. Please adapt your code to use either `displot` (a figure-level function with similar flexibility) or `histplot` (an axes-level function for histograms).\n",
      "  warnings.warn(msg, FutureWarning)\n"
     ]
    },
    {
     "data": {
      "text/plain": [
       "Text(0, 0.5, 'count')"
      ]
     },
     "execution_count": 20,
     "metadata": {},
     "output_type": "execute_result"
    },
    {
     "data": {
      "image/png": "[encoded data removed]",
      "text/plain": [
       "<Figure size 432x288 with 1 Axes>"
      ]
     },
     "metadata": {
      "needs_background": "light"
     },
     "output_type": "display_data"
    }
   ],
   "source": [
    " ## first compute vector of residuals. \n",
    "\n",
    "resids = np.subtract(y, y_pred)\n",
    "\n",
    "## now make the residual plots\n",
    "sns.distplot(resids)\n",
    "plt.title('Histogram of residuals')\n",
    "plt.xlabel('Residual value')\n",
    "plt.ylabel('count')"
   ]
  },
  {
   "cell_type": "code",
   "execution_count": null,
   "id": "3d48c42f",
   "metadata": {},
   "outputs": [],
   "source": []
  }
 ],
 "metadata": {
  "kernelspec": {
   "display_name": "Python 3",
   "language": "python",
   "name": "python3"
  },
  "language_info": {
   "codemirror_mode": {
    "name": "ipython",
    "version": 3
   },
   "file_extension": ".py",
   "mimetype": "text/x-python",
   "name": "python",
   "nbconvert_exporter": "python",
   "pygments_lexer": "ipython3",
   "version": "3.8.8"
  }
 },
 "nbformat": 4,
 "nbformat_minor": 5
}
